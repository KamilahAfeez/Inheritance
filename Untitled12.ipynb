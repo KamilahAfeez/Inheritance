{
  "nbformat": 4,
  "nbformat_minor": 0,
  "metadata": {
    "colab": {
      "provenance": [],
      "authorship_tag": "ABX9TyOg858buND2dBOzNWuPiFP0",
      "include_colab_link": true
    },
    "kernelspec": {
      "name": "python3",
      "display_name": "Python 3"
    },
    "language_info": {
      "name": "python"
    }
  },
  "cells": [
    {
      "cell_type": "markdown",
      "metadata": {
        "id": "view-in-github",
        "colab_type": "text"
      },
      "source": [
        "<a href=\"https://colab.research.google.com/github/KamilahAfeez/Inheritance/blob/main/Untitled12.ipynb\" target=\"_parent\"><img src=\"https://colab.research.google.com/assets/colab-badge.svg\" alt=\"Open In Colab\"/></a>"
      ]
    },
    {
      "cell_type": "code",
      "execution_count": 8,
      "metadata": {
        "colab": {
          "base_uri": "https://localhost:8080/"
        },
        "id": "ieoXv6__CXcc",
        "outputId": "8bcf340d-a930-41b9-938f-9e16bce98675"
      },
      "outputs": [
        {
          "output_type": "stream",
          "name": "stdout",
          "text": [
            "Enter employee name: Kamilah4\n",
            "Enter employee ID number: 1314131413141314\n",
            "Enter empoyee salary: 1,000,000,000,000,000\n",
            "Enter employee post: Managing Director\n",
            "Name: Kamilah4\n",
            "ID Number: 1314131413141314\n"
          ]
        }
      ],
      "source": [
        "class Person:\n",
        "    def __init__(self, name, id_number):\n",
        "        self.name = name\n",
        "        self.id_number = id_number\n",
        "    def display(self):\n",
        "        print(\"Name:\", self.name)\n",
        "        print(\"ID Number:\", self.id_number)\n",
        "class Employee(Person):\n",
        "  def __init__(self, name, id_number, salary, post):\n",
        "    super().__init__(name, id_number)\n",
        "    self.salary = salary\n",
        "    self.post = post\n",
        "name = input(\"Enter employee name: \")\n",
        "id_number = input(\"Enter employee ID number: \")\n",
        "salary = input(\"Enter empoyee salary: \")\n",
        "post = input(\"Enter employee post: \")\n",
        "emp = Employee(name, id_number, salary, post)\n",
        "emp.display()"
      ]
    }
  ]
}